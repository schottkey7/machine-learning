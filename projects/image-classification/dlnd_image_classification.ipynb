{
 "cells": [
  {
   "cell_type": "markdown",
   "metadata": {
    "collapsed": true
   },
   "source": [
    "# Image Classification\n",
    "In this project, you'll classify images from the [CIFAR-10 dataset](https://www.cs.toronto.edu/~kriz/cifar.html).  The dataset consists of airplanes, dogs, cats, and other objects. You'll preprocess the images, then train a convolutional neural network on all the samples. The images need to be normalized and the labels need to be one-hot encoded.  You'll get to apply what you learned and build a convolutional, max pooling, dropout, and fully connected layers.  At the end, you'll get to see your neural network's predictions on the sample images.\n",
    "## Get the Data\n",
    "Run the following cell to download the [CIFAR-10 dataset for python](https://www.cs.toronto.edu/~kriz/cifar-10-python.tar.gz)."
   ]
  },
  {
   "cell_type": "code",
   "execution_count": 133,
   "metadata": {
    "scrolled": true
   },
   "outputs": [
    {
     "name": "stdout",
     "output_type": "stream",
     "text": [
      "All files found!\n"
     ]
    }
   ],
   "source": [
    "\"\"\"\n",
    "DON'T MODIFY ANYTHING IN THIS CELL THAT IS BELOW THIS LINE\n",
    "\"\"\"\n",
    "from urllib.request import urlretrieve\n",
    "from os.path import isfile, isdir\n",
    "from tqdm import tqdm\n",
    "import problem_unittests as tests\n",
    "import tarfile\n",
    "\n",
    "cifar10_dataset_folder_path = 'cifar-10-batches-py'\n",
    "\n",
    "class DLProgress(tqdm):\n",
    "    last_block = 0\n",
    "\n",
    "    def hook(self, block_num=1, block_size=1, total_size=None):\n",
    "        self.total = total_size\n",
    "        self.update((block_num - self.last_block) * block_size)\n",
    "        self.last_block = block_num\n",
    "\n",
    "if not isfile('cifar-10-python.tar.gz'):\n",
    "    with DLProgress(unit='B', unit_scale=True, miniters=1, desc='CIFAR-10 Dataset') as pbar:\n",
    "        urlretrieve(\n",
    "            'https://www.cs.toronto.edu/~kriz/cifar-10-python.tar.gz',\n",
    "            'cifar-10-python.tar.gz',\n",
    "            pbar.hook)\n",
    "\n",
    "if not isdir(cifar10_dataset_folder_path):\n",
    "    with tarfile.open('cifar-10-python.tar.gz') as tar:\n",
    "        tar.extractall()\n",
    "        tar.close()\n",
    "\n",
    "\n",
    "tests.test_folder_path(cifar10_dataset_folder_path)"
   ]
  },
  {
   "cell_type": "code",
   "execution_count": 134,
   "metadata": {
    "collapsed": true
   },
   "outputs": [],
   "source": [
    "# Import additional modules\n",
    "from sklearn.preprocessing import LabelBinarizer"
   ]
  },
  {
   "cell_type": "markdown",
   "metadata": {},
   "source": [
    "## Explore the Data\n",
    "The dataset is broken into batches to prevent your machine from running out of memory.  The CIFAR-10 dataset consists of 5 batches, named `data_batch_1`, `data_batch_2`, etc.. Each batch contains the labels and images that are one of the following:\n",
    "* airplane\n",
    "* automobile\n",
    "* bird\n",
    "* cat\n",
    "* deer\n",
    "* dog\n",
    "* frog\n",
    "* horse\n",
    "* ship\n",
    "* truck\n",
    "\n",
    "Understanding a dataset is part of making predictions on the data.  Play around with the code cell below by changing the `batch_id` and `sample_id`. The `batch_id` is the id for a batch (1-5). The `sample_id` is the id for a image and label pair in the batch.\n",
    "\n",
    "Ask yourself \"What are all possible labels?\", \"What is the range of values for the image data?\", \"Are the labels in order or random?\".  Answers to questions like these will help you preprocess the data and end up with better predictions."
   ]
  },
  {
   "cell_type": "code",
   "execution_count": 135,
   "metadata": {},
   "outputs": [
    {
     "name": "stdout",
     "output_type": "stream",
     "text": [
      "\n",
      "Stats of batch 5:\n",
      "Samples: 10000\n",
      "Label Counts: {0: 1014, 1: 1014, 2: 952, 3: 1016, 4: 997, 5: 1025, 6: 980, 7: 977, 8: 1003, 9: 1022}\n",
      "First 20 Labels: [1, 8, 5, 1, 5, 7, 4, 3, 8, 2, 7, 2, 0, 1, 5, 9, 6, 2, 0, 8]\n",
      "\n",
      "Example of Image 999:\n",
      "Image - Min Value: 18 Max Value: 224\n",
      "Image - Shape: (32, 32, 3)\n",
      "Label - Label Id: 7 Name: horse\n"
     ]
    },
    {
     "data": {
      "image/png": "[encoded data removed]",
      "text/plain": [
       "<matplotlib.figure.Figure at 0x132022828>"
      ]
     },
     "metadata": {
      "image/png": {
       "height": 250,
       "width": 253
      }
     },
     "output_type": "display_data"
    }
   ],
   "source": [
    "%matplotlib inline\n",
    "%config InlineBackend.figure_format = 'retina'\n",
    "\n",
    "import helper\n",
    "import numpy as np\n",
    "\n",
    "# Explore the dataset\n",
    "batch_id = 5\n",
    "sample_id = 999\n",
    "helper.display_stats(cifar10_dataset_folder_path, batch_id, sample_id)"
   ]
  },
  {
   "cell_type": "markdown",
   "metadata": {},
   "source": [
    "## Implement Preprocess Functions\n",
    "### Normalize\n",
    "In the cell below, implement the `normalize` function to take in image data, `x`, and return it as a normalized Numpy array. The values should be in the range of 0 to 1, inclusive.  The return object should be the same shape as `x`."
   ]
  },
  {
   "cell_type": "code",
   "execution_count": 168,
   "metadata": {},
   "outputs": [
    {
     "name": "stdout",
     "output_type": "stream",
     "text": [
      "Tests Passed\n"
     ]
    }
   ],
   "source": [
    "def normalize(x):\n",
    "    \"\"\"\n",
    "    Normalize a list of sample image data in the range of 0 to 1\n",
    "    : x: List of image data.  The image shape is (32, 32, 3)\n",
    "    : return: Numpy array of normalize data\n",
    "    \"\"\"\n",
    "    return x / 255\n",
    "\n",
    "\n",
    "\"\"\"\n",
    "DON'T MODIFY ANYTHING IN THIS CELL THAT IS BELOW THIS LINE\n",
    "\"\"\"\n",
    "tests.test_normalize(normalize)"
   ]
  },
  {
   "cell_type": "markdown",
   "metadata": {},
   "source": [
    "### One-hot encode\n",
    "Just like the previous code cell, you'll be implementing a function for preprocessing.  This time, you'll implement the `one_hot_encode` function. The input, `x`, are a list of labels.  Implement the function to return the list of labels as One-Hot encoded Numpy array.  The possible values for labels are 0 to 9. The one-hot encoding function should return the same encoding for each value between each call to `one_hot_encode`.  Make sure to save the map of encodings outside the function.\n",
    "\n",
    "**Hint:**\n",
    "\n",
    "Look into LabelBinarizer in the preprocessing module of sklearn."
   ]
  },
  {
   "cell_type": "code",
   "execution_count": 169,
   "metadata": {},
   "outputs": [
    {
     "name": "stdout",
     "output_type": "stream",
     "text": [
      "Tests Passed\n"
     ]
    }
   ],
   "source": [
    "encoding_map = range(10)\n",
    "\n",
    "def one_hot_encode(x):\n",
    "    \"\"\"\n",
    "    One hot encode a list of sample labels. Return a one-hot encoded vector for each label.\n",
    "    : x: List of sample Labels\n",
    "    : return: Numpy array of one-hot encoded labels\n",
    "    \"\"\"\n",
    "    lb = LabelBinarizer()\n",
    "    lb.fit(encoding_map)\n",
    "    return lb.transform(x)\n",
    "\n",
    "\n",
    "\"\"\"\n",
    "DON'T MODIFY ANYTHING IN THIS CELL THAT IS BELOW THIS LINE\n",
    "\"\"\"\n",
    "tests.test_one_hot_encode(one_hot_encode)"
   ]
  },
  {
   "cell_type": "markdown",
   "metadata": {},
   "source": [
    "### Randomize Data\n",
    "As you saw from exploring the data above, the order of the samples are randomized.  It doesn't hurt to randomize it again, but you don't need to for this dataset."
   ]
  },
  {
   "cell_type": "markdown",
   "metadata": {},
   "source": [
    "## Preprocess all the data and save it\n",
    "Running the code cell below will preprocess all the CIFAR-10 data and save it to file. The code below also uses 10% of the training data for validation."
   ]
  },
  {
   "cell_type": "code",
   "execution_count": 170,
   "metadata": {
    "collapsed": true
   },
   "outputs": [],
   "source": [
    "\"\"\"\n",
    "DON'T MODIFY ANYTHING IN THIS CELL\n",
    "\"\"\"\n",
    "# Preprocess Training, Validation, and Testing Data\n",
    "helper.preprocess_and_save_data(cifar10_dataset_folder_path, normalize, one_hot_encode)"
   ]
  },
  {
   "cell_type": "markdown",
   "metadata": {},
   "source": [
    "# Check Point\n",
    "This is your first checkpoint.  If you ever decide to come back to this notebook or have to restart the notebook, you can start from here.  The preprocessed data has been saved to disk."
   ]
  },
  {
   "cell_type": "code",
   "execution_count": 161,
   "metadata": {
    "collapsed": true
   },
   "outputs": [],
   "source": [
    "\"\"\"\n",
    "DON'T MODIFY ANYTHING IN THIS CELL\n",
    "\"\"\"\n",
    "import pickle\n",
    "import problem_unittests as tests\n",
    "import helper\n",
    "\n",
    "# Load the Preprocessed Validation data\n",
    "valid_features, valid_labels = pickle.load(open('preprocess_validation.p', mode='rb'))"
   ]
  },
  {
   "cell_type": "markdown",
   "metadata": {},
   "source": [
    "## Build the network\n",
    "For the neural network, you'll build each layer into a function.  Most of the code you've seen has been outside of functions. To test your code more thoroughly, we require that you put each layer in a function.  This allows us to give you better feedback and test for simple mistakes using our unittests before you submit your project.\n",
    "\n",
    ">**Note:** If you're finding it hard to dedicate enough time for this course each week, we've provided a small shortcut to this part of the project. In the next couple of problems, you'll have the option to use classes from the [TensorFlow Layers](https://www.tensorflow.org/api_docs/python/tf/layers) or [TensorFlow Layers (contrib)](https://www.tensorflow.org/api_guides/python/contrib.layers) packages to build each layer, except the layers you build in the \"Convolutional and Max Pooling Layer\" section.  TF Layers is similar to Keras's and TFLearn's abstraction to layers, so it's easy to pickup.\n",
    "\n",
    ">However, if you would like to get the most out of this course, try to solve all the problems _without_ using anything from the TF Layers packages. You **can** still use classes from other packages that happen to have the same name as ones you find in TF Layers! For example, instead of using the TF Layers version of the `conv2d` class, [tf.layers.conv2d](https://www.tensorflow.org/api_docs/python/tf/layers/conv2d), you would want to use the TF Neural Network version of `conv2d`, [tf.nn.conv2d](https://www.tensorflow.org/api_docs/python/tf/nn/conv2d). \n",
    "\n",
    "Let's begin!\n",
    "\n",
    "### Input\n",
    "The neural network needs to read the image data, one-hot encoded labels, and dropout keep probability. Implement the following functions\n",
    "* Implement `neural_net_image_input`\n",
    " * Return a [TF Placeholder](https://www.tensorflow.org/api_docs/python/tf/placeholder)\n",
    " * Set the shape using `image_shape` with batch size set to `None`.\n",
    " * Name the TensorFlow placeholder \"x\" using the TensorFlow `name` parameter in the [TF Placeholder](https://www.tensorflow.org/api_docs/python/tf/placeholder).\n",
    "* Implement `neural_net_label_input`\n",
    " * Return a [TF Placeholder](https://www.tensorflow.org/api_docs/python/tf/placeholder)\n",
    " * Set the shape using `n_classes` with batch size set to `None`.\n",
    " * Name the TensorFlow placeholder \"y\" using the TensorFlow `name` parameter in the [TF Placeholder](https://www.tensorflow.org/api_docs/python/tf/placeholder).\n",
    "* Implement `neural_net_keep_prob_input`\n",
    " * Return a [TF Placeholder](https://www.tensorflow.org/api_docs/python/tf/placeholder) for dropout keep probability.\n",
    " * Name the TensorFlow placeholder \"keep_prob\" using the TensorFlow `name` parameter in the [TF Placeholder](https://www.tensorflow.org/api_docs/python/tf/placeholder).\n",
    "\n",
    "These names will be used at the end of the project to load your saved model.\n",
    "\n",
    "Note: `None` for shapes in TensorFlow allow for a dynamic size."
   ]
  },
  {
   "cell_type": "code",
   "execution_count": 151,
   "metadata": {},
   "outputs": [
    {
     "name": "stdout",
     "output_type": "stream",
     "text": [
      "Image Input Tests Passed.\n",
      "Label Input Tests Passed.\n",
      "Keep Prob Tests Passed.\n"
     ]
    }
   ],
   "source": [
    "import tensorflow as tf\n",
    "\n",
    "def neural_net_image_input(image_shape):\n",
    "    \"\"\"\n",
    "    Return a Tensor for a batch of image input\n",
    "    : image_shape: Shape of the images\n",
    "    : return: Tensor for image input.\n",
    "    \"\"\"\n",
    "    h, w, d = image_shape\n",
    "    return tf.placeholder(tf.float32, [None, h, w, d], name='x')\n",
    "\n",
    "\n",
    "def neural_net_label_input(n_classes):\n",
    "    \"\"\"\n",
    "    Return a Tensor for a batch of label input\n",
    "    : n_classes: Number of classes\n",
    "    : return: Tensor for label input.\n",
    "    \"\"\"\n",
    "    return tf.placeholder(tf.float32, [None, n_classes], name='y')\n",
    "\n",
    "\n",
    "def neural_net_keep_prob_input():\n",
    "    \"\"\"\n",
    "    Return a Tensor for keep probability\n",
    "    : return: Tensor for keep probability.\n",
    "    \"\"\"\n",
    "    return tf.placeholder(tf.float32, name='keep_prob')\n",
    "\n",
    "\n",
    "\"\"\"\n",
    "DON'T MODIFY ANYTHING IN THIS CELL THAT IS BELOW THIS LINE\n",
    "\"\"\"\n",
    "tf.reset_default_graph()\n",
    "tests.test_nn_image_inputs(neural_net_image_input)\n",
    "tests.test_nn_label_inputs(neural_net_label_input)\n",
    "tests.test_nn_keep_prob_inputs(neural_net_keep_prob_input)"
   ]
  },
  {
   "cell_type": "markdown",
   "metadata": {},
   "source": [
    "### Convolution and Max Pooling Layer\n",
    "Convolution layers have a lot of success with images. For this code cell, you should implement the function `conv2d_maxpool` to apply convolution then max pooling:\n",
    "* Create the weight and bias using `conv_ksize`, `conv_num_outputs` and the shape of `x_tensor`.\n",
    "* Apply a convolution to `x_tensor` using weight and `conv_strides`.\n",
    " * We recommend you use same padding, but you're welcome to use any padding.\n",
    "* Add bias\n",
    "* Add a nonlinear activation to the convolution.\n",
    "* Apply Max Pooling using `pool_ksize` and `pool_strides`.\n",
    " * We recommend you use same padding, but you're welcome to use any padding.\n",
    "\n",
    "**Note:** You **can't** use [TensorFlow Layers](https://www.tensorflow.org/api_docs/python/tf/layers) or [TensorFlow Layers (contrib)](https://www.tensorflow.org/api_guides/python/contrib.layers) for **this** layer, but you can still use TensorFlow's [Neural Network](https://www.tensorflow.org/api_docs/python/tf/nn) package. You may still use the shortcut option for all the **other** layers.\n",
    "\n",
    "** Hint: **\n",
    "\n",
    "When unpacking values as an argument in Python, look into the [unpacking](https://docs.python.org/3/tutorial/controlflow.html#unpacking-argument-lists) operator. "
   ]
  },
  {
   "cell_type": "code",
   "execution_count": 172,
   "metadata": {},
   "outputs": [
    {
     "name": "stdout",
     "output_type": "stream",
     "text": [
      "Tests Passed\n"
     ]
    }
   ],
   "source": [
    "def conv2d_maxpool(x_tensor, conv_num_outputs, conv_ksize, conv_strides, pool_ksize, pool_strides):\n",
    "    \"\"\"\n",
    "    Apply convolution then max pooling to x_tensor\n",
    "    :param x_tensor: TensorFlow Tensor\n",
    "    :param conv_num_outputs: Number of outputs for the convolutional layer\n",
    "    :param conv_ksize: kernel size 2-D Tuple for the convolutional layer\n",
    "    :param conv_strides: Stride 2-D Tuple for convolution\n",
    "    :param pool_ksize: kernel size 2-D Tuple for pool\n",
    "    :param pool_strides: Stride 2-D Tuple for pool\n",
    "    : return: A tensor that represents convolution and max pooling of x_tensor\n",
    "    \"\"\"\n",
    "    d = x_tensor.shape.as_list()[-1]\n",
    "    \n",
    "    # Define weights and biases\n",
    "    weights = tf.Variable(tf.truncated_normal([*conv_ksize, d, conv_num_outputs], stddev=.05))\n",
    "    biases = tf.Variable(tf.zeros([conv_num_outputs]))\n",
    "    \n",
    "    # Convolutional layer\n",
    "    conv_layer = tf.nn.conv2d(x_tensor, weights, strides=[1, *conv_strides, 1], padding='SAME')\n",
    "    \n",
    "    # Add bias\n",
    "    conv_layer = tf.nn.bias_add(conv_layer, biases)\n",
    "    \n",
    "    # Activation function\n",
    "    conv_layer = tf.nn.relu(conv_layer)\n",
    "    \n",
    "    # Pooling layer\n",
    "    conv_layer = tf.nn.max_pool(\n",
    "        conv_layer,\n",
    "        ksize=[1, *pool_ksize, 1],\n",
    "        strides=[1, *pool_strides, 1],\n",
    "        padding='SAME')\n",
    "\n",
    "    return conv_layer \n",
    "\n",
    "\n",
    "\"\"\"\n",
    "DON'T MODIFY ANYTHING IN THIS CELL THAT IS BELOW THIS LINE\n",
    "\"\"\"\n",
    "tests.test_con_pool(conv2d_maxpool)"
   ]
  },
  {
   "cell_type": "markdown",
   "metadata": {},
   "source": [
    "### Flatten Layer\n",
    "Implement the `flatten` function to change the dimension of `x_tensor` from a 4-D tensor to a 2-D tensor.  The output should be the shape (*Batch Size*, *Flattened Image Size*). Shortcut option: you can use classes from the [TensorFlow Layers](https://www.tensorflow.org/api_docs/python/tf/layers) or [TensorFlow Layers (contrib)](https://www.tensorflow.org/api_guides/python/contrib.layers) packages for this layer. For more of a challenge, only use other TensorFlow packages."
   ]
  },
  {
   "cell_type": "code",
   "execution_count": 173,
   "metadata": {},
   "outputs": [
    {
     "name": "stdout",
     "output_type": "stream",
     "text": [
      "Tests Passed\n"
     ]
    }
   ],
   "source": [
    "def flatten(x_tensor):\n",
    "    \"\"\"\n",
    "    Flatten x_tensor to (Batch Size, Flattened Image Size)\n",
    "    : x_tensor: A tensor of size (Batch Size, ...), where ... are the image dimensions.\n",
    "    : return: A tensor of size (Batch Size, Flattened Image Size).\n",
    "    \"\"\"\n",
    "    _, h, w, d = x_tensor.shape.as_list()\n",
    "    return tf.reshape(x_tensor, [-1, h*w*d])\n",
    "\n",
    "\"\"\"\n",
    "DON'T MODIFY ANYTHING IN THIS CELL THAT IS BELOW THIS LINE\n",
    "\"\"\"\n",
    "tests.test_flatten(flatten)"
   ]
  },
  {
   "cell_type": "markdown",
   "metadata": {},
   "source": [
    "### Fully-Connected Layer\n",
    "Implement the `fully_conn` function to apply a fully connected layer to `x_tensor` with the shape (*Batch Size*, *num_outputs*). Shortcut option: you can use classes from the [TensorFlow Layers](https://www.tensorflow.org/api_docs/python/tf/layers) or [TensorFlow Layers (contrib)](https://www.tensorflow.org/api_guides/python/contrib.layers) packages for this layer. For more of a challenge, only use other TensorFlow packages."
   ]
  },
  {
   "cell_type": "code",
   "execution_count": 174,
   "metadata": {},
   "outputs": [
    {
     "name": "stdout",
     "output_type": "stream",
     "text": [
      "Tests Passed\n"
     ]
    }
   ],
   "source": [
    "def fully_conn(x_tensor, num_outputs):\n",
    "    \"\"\"\n",
    "    Apply a fully connected layer to x_tensor using weight and bias\n",
    "    : x_tensor: A 2-D tensor where the first dimension is batch size.\n",
    "    : num_outputs: The number of output that the new tensor should be.\n",
    "    : return: A 2-D tensor where the second dimension is num_outputs.\n",
    "    \"\"\"\n",
    "    _, size = x_tensor.shape.as_list()\n",
    "    \n",
    "    # Define weights and biases\n",
    "    weights = tf.Variable(tf.truncated_normal([size, num_outputs], stddev=.05))\n",
    "    biases = tf.Variable(tf.zeros([num_outputs]))\n",
    "    \n",
    "    # Fully connected layer\n",
    "    fc = tf.add(tf.matmul(x_tensor, weights), biases)\n",
    "    fc = tf.nn.relu(fc)\n",
    "    \n",
    "    return fc\n",
    "\n",
    "\"\"\"\n",
    "DON'T MODIFY ANYTHING IN THIS CELL THAT IS BELOW THIS LINE\n",
    "\"\"\"\n",
    "tests.test_fully_conn(fully_conn)"
   ]
  },
  {
   "cell_type": "markdown",
   "metadata": {},
   "source": [
    "### Output Layer\n",
    "Implement the `output` function to apply a fully connected layer to `x_tensor` with the shape (*Batch Size*, *num_outputs*). Shortcut option: you can use classes from the [TensorFlow Layers](https://www.tensorflow.org/api_docs/python/tf/layers) or [TensorFlow Layers (contrib)](https://www.tensorflow.org/api_guides/python/contrib.layers) packages for this layer. For more of a challenge, only use other TensorFlow packages.\n",
    "\n",
    "**Note:** Activation, softmax, or cross entropy should **not** be applied to this."
   ]
  },
  {
   "cell_type": "code",
   "execution_count": 175,
   "metadata": {},
   "outputs": [
    {
     "name": "stdout",
     "output_type": "stream",
     "text": [
      "Tests Passed\n"
     ]
    }
   ],
   "source": [
    "def output(x_tensor, num_outputs):\n",
    "    \"\"\"\n",
    "    Apply a output layer to x_tensor using weight and bias\n",
    "    : x_tensor: A 2-D tensor where the first dimension is batch size.\n",
    "    : num_outputs: The number of output that the new tensor should be.\n",
    "    : return: A 2-D tensor where the second dimension is num_outputs.\n",
    "    \"\"\"\n",
    "    _, size = x_tensor.shape.as_list()\n",
    "    \n",
    "    # Define weights and biases\n",
    "    weights = tf.Variable(tf.random_normal([size, num_outputs], stddev=0.1))\n",
    "    biases = tf.Variable(tf.zeros([num_outputs]))\n",
    "    \n",
    "    # Output layer\n",
    "    out = tf.add(tf.matmul(x_tensor, weights), biases)\n",
    "    \n",
    "    return out\n",
    "\n",
    "\"\"\"\n",
    "DON'T MODIFY ANYTHING IN THIS CELL THAT IS BELOW THIS LINE\n",
    "\"\"\"\n",
    "tests.test_output(output)"
   ]
  },
  {
   "cell_type": "markdown",
   "metadata": {},
   "source": [
    "### Create Convolutional Model\n",
    "Implement the function `conv_net` to create a convolutional neural network model. The function takes in a batch of images, `x`, and outputs logits.  Use the layers you created above to create this model:\n",
    "\n",
    "* Apply 1, 2, or 3 Convolution and Max Pool layers\n",
    "* Apply a Flatten Layer\n",
    "* Apply 1, 2, or 3 Fully Connected Layers\n",
    "* Apply an Output Layer\n",
    "* Return the output\n",
    "* Apply [TensorFlow's Dropout](https://www.tensorflow.org/api_docs/python/tf/nn/dropout) to one or more layers in the model using `keep_prob`. "
   ]
  },
  {
   "cell_type": "code",
   "execution_count": 182,
   "metadata": {},
   "outputs": [
    {
     "name": "stdout",
     "output_type": "stream",
     "text": [
      "Neural Network Built!\n"
     ]
    }
   ],
   "source": [
    "def conv_net(x, keep_prob):\n",
    "    \"\"\"\n",
    "    Create a convolutional neural network model\n",
    "    : x: Placeholder tensor that holds image data.\n",
    "    : keep_prob: Placeholder tensor that hold dropout keep probability.\n",
    "    : return: Tensor that represents logits\n",
    "    \"\"\"\n",
    "    # Function Definition from Above:\n",
    "    # conv2d_maxpool(x, conv_num_outputs, conv_ksize, conv_strides, pool_ksize, pool_strides)\n",
    "    \n",
    "    # Convolutional layers\n",
    "    conv_layer = conv2d_maxpool(x, 32, (3, 3), (1, 1), (2, 2), (2, 2))\n",
    "    conv_layer = conv2d_maxpool(conv_layer, 64, (3, 3), (1, 1), (2, 2), (2, 2))\n",
    "    conv_layer = conv2d_maxpool(conv_layer, 128, (3, 3), (1, 1), (2, 2), (2, 2))\n",
    "\n",
    "    # Flatten layer\n",
    "    flattened_layer = flatten(conv_layer)\n",
    "    \n",
    "    # Fully connected layers with dropout\n",
    "    fc_layer = fully_conn(flattened_layer, 1024)\n",
    "    fc_layer = tf.nn.dropout(fc_layer, keep_prob=keep_prob)\n",
    "    fc_layer = fully_conn(fc_layer, 512)\n",
    "    fc_layer = tf.nn.dropout(fc_layer, keep_prob=keep_prob)\n",
    "    \n",
    "    # Output layer\n",
    "    out = output(fc_layer, 10)\n",
    "    \n",
    "    return out\n",
    "\n",
    "\n",
    "\"\"\"\n",
    "DON'T MODIFY ANYTHING IN THIS CELL THAT IS BELOW THIS LINE\n",
    "\"\"\"\n",
    "\n",
    "##############################\n",
    "## Build the Neural Network ##\n",
    "##############################\n",
    "\n",
    "# Remove previous weights, bias, inputs, etc..\n",
    "tf.reset_default_graph()\n",
    "\n",
    "# Inputs\n",
    "x = neural_net_image_input((32, 32, 3))\n",
    "y = neural_net_label_input(10)\n",
    "keep_prob = neural_net_keep_prob_input()\n",
    "\n",
    "# Model\n",
    "logits = conv_net(x, keep_prob)\n",
    "\n",
    "# Name logits Tensor, so that is can be loaded from disk after training\n",
    "logits = tf.identity(logits, name='logits')\n",
    "\n",
    "# Loss and Optimizer\n",
    "cost = tf.reduce_mean(tf.nn.softmax_cross_entropy_with_logits(logits=logits, labels=y))\n",
    "optimizer = tf.train.AdamOptimizer().minimize(cost)\n",
    "\n",
    "# Accuracy\n",
    "correct_pred = tf.equal(tf.argmax(logits, 1), tf.argmax(y, 1))\n",
    "accuracy = tf.reduce_mean(tf.cast(correct_pred, tf.float32), name='accuracy')\n",
    "\n",
    "tests.test_conv_net(conv_net)"
   ]
  },
  {
   "cell_type": "markdown",
   "metadata": {},
   "source": [
    "## Train the Neural Network\n",
    "### Single Optimization\n",
    "Implement the function `train_neural_network` to do a single optimization.  The optimization should use `optimizer` to optimize in `session` with a `feed_dict` of the following:\n",
    "* `x` for image input\n",
    "* `y` for labels\n",
    "* `keep_prob` for keep probability for dropout\n",
    "\n",
    "This function will be called for each batch, so `tf.global_variables_initializer()` has already been called.\n",
    "\n",
    "Note: Nothing needs to be returned. This function is only optimizing the neural network."
   ]
  },
  {
   "cell_type": "code",
   "execution_count": 177,
   "metadata": {},
   "outputs": [
    {
     "name": "stdout",
     "output_type": "stream",
     "text": [
      "Tests Passed\n"
     ]
    }
   ],
   "source": [
    "def train_neural_network(session, optimizer, keep_probability, feature_batch, label_batch):\n",
    "    \"\"\"\n",
    "    Optimize the session on a batch of images and labels\n",
    "    : session: Current TensorFlow session\n",
    "    : optimizer: TensorFlow optimizer function\n",
    "    : keep_probability: keep probability\n",
    "    : feature_batch: Batch of Numpy image data\n",
    "    : label_batch: Batch of Numpy label data\n",
    "    \"\"\"\n",
    "    session.run(optimizer, feed_dict={\n",
    "        x: feature_batch,\n",
    "        y: label_batch,\n",
    "        keep_prob: keep_probability\n",
    "    })\n",
    "\n",
    "\n",
    "\"\"\"\n",
    "DON'T MODIFY ANYTHING IN THIS CELL THAT IS BELOW THIS LINE\n",
    "\"\"\"\n",
    "tests.test_train_nn(train_neural_network)"
   ]
  },
  {
   "cell_type": "markdown",
   "metadata": {},
   "source": [
    "### Show Stats\n",
    "Implement the function `print_stats` to print loss and validation accuracy.  Use the global variables `valid_features` and `valid_labels` to calculate validation accuracy.  Use a keep probability of `1.0` to calculate the loss and validation accuracy."
   ]
  },
  {
   "cell_type": "code",
   "execution_count": 178,
   "metadata": {
    "collapsed": true
   },
   "outputs": [],
   "source": [
    "def print_stats(session, feature_batch, label_batch, cost, accuracy):\n",
    "    \"\"\"\n",
    "    Print information about loss and validation accuracy\n",
    "    : session: Current TensorFlow session\n",
    "    : feature_batch: Batch of Numpy image data\n",
    "    : label_batch: Batch of Numpy label data\n",
    "    : cost: TensorFlow cost function\n",
    "    : accuracy: TensorFlow accuracy function\n",
    "    \"\"\"\n",
    "    loss = session.run(cost, feed_dict={\n",
    "        x: feature_batch,\n",
    "        y: label_batch,\n",
    "        keep_prob: 1.\n",
    "    })\n",
    "    val_acc = session.run(accuracy, feed_dict={\n",
    "        x: valid_features,\n",
    "        y: valid_labels,\n",
    "        keep_prob: 1.\n",
    "    })\n",
    "\n",
    "    print('Loss: {:.6f}, Validation accuracy: {:.6f}'.format(loss, val_acc))"
   ]
  },
  {
   "cell_type": "markdown",
   "metadata": {},
   "source": [
    "### Hyperparameters\n",
    "Tune the following parameters:\n",
    "* Set `epochs` to the number of iterations until the network stops learning or start overfitting\n",
    "* Set `batch_size` to the highest number that your machine has memory for.  Most people set them to common sizes of memory:\n",
    " * 64\n",
    " * 128\n",
    " * 256\n",
    " * ...\n",
    "* Set `keep_probability` to the probability of keeping a node using dropout"
   ]
  },
  {
   "cell_type": "code",
   "execution_count": 188,
   "metadata": {
    "collapsed": true
   },
   "outputs": [],
   "source": [
    "# TODO: Tune Parameters\n",
    "epochs = 25\n",
    "batch_size = 1024\n",
    "keep_probability = 0.75"
   ]
  },
  {
   "cell_type": "markdown",
   "metadata": {},
   "source": [
    "### Train on a Single CIFAR-10 Batch\n",
    "Instead of training the neural network on all the CIFAR-10 batches of data, let's use a single batch. This should save time while you iterate on the model to get a better accuracy.  Once the final validation accuracy is 50% or greater, run the model on all the data in the next section."
   ]
  },
  {
   "cell_type": "code",
   "execution_count": 183,
   "metadata": {},
   "outputs": [
    {
     "name": "stdout",
     "output_type": "stream",
     "text": [
      "Checking the Training on a Single Batch...\n",
      "Epoch  1, CIFAR-10 Batch 1:  Loss: 2.117355, Validation accuracy: 0.221400\n",
      "Epoch  2, CIFAR-10 Batch 1:  Loss: 2.005639, Validation accuracy: 0.278400\n",
      "Epoch  3, CIFAR-10 Batch 1:  Loss: 1.775369, Validation accuracy: 0.369800\n",
      "Epoch  4, CIFAR-10 Batch 1:  Loss: 1.680297, Validation accuracy: 0.380200\n",
      "Epoch  5, CIFAR-10 Batch 1:  Loss: 1.539141, Validation accuracy: 0.422800\n",
      "Epoch  6, CIFAR-10 Batch 1:  Loss: 1.442741, Validation accuracy: 0.452600\n",
      "Epoch  7, CIFAR-10 Batch 1:  Loss: 1.359127, Validation accuracy: 0.484200\n",
      "Epoch  8, CIFAR-10 Batch 1:  Loss: 1.296560, Validation accuracy: 0.499200\n",
      "Epoch  9, CIFAR-10 Batch 1:  Loss: 1.228140, Validation accuracy: 0.506400\n",
      "Epoch 10, CIFAR-10 Batch 1:  Loss: 1.206174, Validation accuracy: 0.516800\n",
      "Epoch 11, CIFAR-10 Batch 1:  Loss: 1.154215, Validation accuracy: 0.529600\n",
      "Epoch 12, CIFAR-10 Batch 1:  Loss: 1.127652, Validation accuracy: 0.527000\n",
      "Epoch 13, CIFAR-10 Batch 1:  Loss: 1.025518, Validation accuracy: 0.559600\n",
      "Epoch 14, CIFAR-10 Batch 1:  Loss: 0.996832, Validation accuracy: 0.556000\n",
      "Epoch 15, CIFAR-10 Batch 1:  Loss: 0.911928, Validation accuracy: 0.569000\n",
      "Epoch 16, CIFAR-10 Batch 1:  Loss: 0.836802, Validation accuracy: 0.582600\n",
      "Epoch 17, CIFAR-10 Batch 1:  Loss: 0.792955, Validation accuracy: 0.593000\n",
      "Epoch 18, CIFAR-10 Batch 1:  Loss: 0.737276, Validation accuracy: 0.598200\n",
      "Epoch 19, CIFAR-10 Batch 1:  Loss: 0.698769, Validation accuracy: 0.597000\n",
      "Epoch 20, CIFAR-10 Batch 1:  Loss: 0.752855, Validation accuracy: 0.585800\n",
      "Epoch 21, CIFAR-10 Batch 1:  Loss: 0.655702, Validation accuracy: 0.586000\n",
      "Epoch 22, CIFAR-10 Batch 1:  Loss: 0.608873, Validation accuracy: 0.592400\n",
      "Epoch 23, CIFAR-10 Batch 1:  Loss: 0.610239, Validation accuracy: 0.585600\n",
      "Epoch 24, CIFAR-10 Batch 1:  Loss: 0.584077, Validation accuracy: 0.566200\n",
      "Epoch 25, CIFAR-10 Batch 1:  Loss: 0.506447, Validation accuracy: 0.597400\n"
     ]
    }
   ],
   "source": [
    "\"\"\"\n",
    "DON'T MODIFY ANYTHING IN THIS CELL\n",
    "\"\"\"\n",
    "print('Checking the Training on a Single Batch...')\n",
    "with tf.Session() as sess:\n",
    "    # Initializing the variables\n",
    "    sess.run(tf.global_variables_initializer())\n",
    "    \n",
    "    # Training cycle\n",
    "    for epoch in range(epochs):\n",
    "        batch_i = 1\n",
    "        for batch_features, batch_labels in helper.load_preprocess_training_batch(batch_i, batch_size):\n",
    "            train_neural_network(sess, optimizer, keep_probability, batch_features, batch_labels)\n",
    "        print('Epoch {:>2}, CIFAR-10 Batch {}:  '.format(epoch + 1, batch_i), end='')\n",
    "        print_stats(sess, batch_features, batch_labels, cost, accuracy)"
   ]
  },
  {
   "cell_type": "markdown",
   "metadata": {},
   "source": [
    "### Fully Train the Model\n",
    "Now that you got a good accuracy with a single CIFAR-10 batch, try it with all five batches."
   ]
  },
  {
   "cell_type": "code",
   "execution_count": 187,
   "metadata": {},
   "outputs": [
    {
     "name": "stdout",
     "output_type": "stream",
     "text": [
      "Training...\n",
      "Epoch  1, CIFAR-10 Batch 1:  Loss: 2.261701, Validation accuracy: 0.157000\n",
      "Epoch  1, CIFAR-10 Batch 2:  Loss: 1.971243, Validation accuracy: 0.284600\n",
      "Epoch  1, CIFAR-10 Batch 3:  Loss: 1.793151, Validation accuracy: 0.342800\n",
      "Epoch  1, CIFAR-10 Batch 4:  Loss: 1.620257, Validation accuracy: 0.410400\n",
      "Epoch  1, CIFAR-10 Batch 5:  Loss: 1.528653, Validation accuracy: 0.443400\n",
      "Epoch  2, CIFAR-10 Batch 1:  Loss: 1.469395, Validation accuracy: 0.467400\n",
      "Epoch  2, CIFAR-10 Batch 2:  Loss: 1.483484, Validation accuracy: 0.462000\n",
      "Epoch  2, CIFAR-10 Batch 3:  Loss: 1.340527, Validation accuracy: 0.490400\n",
      "Epoch  2, CIFAR-10 Batch 4:  Loss: 1.302284, Validation accuracy: 0.524800\n",
      "Epoch  2, CIFAR-10 Batch 5:  Loss: 1.268371, Validation accuracy: 0.531800\n",
      "Epoch  3, CIFAR-10 Batch 1:  Loss: 1.251147, Validation accuracy: 0.543400\n",
      "Epoch  3, CIFAR-10 Batch 2:  Loss: 1.206498, Validation accuracy: 0.561200\n",
      "Epoch  3, CIFAR-10 Batch 3:  Loss: 1.158937, Validation accuracy: 0.543000\n",
      "Epoch  3, CIFAR-10 Batch 4:  Loss: 1.131584, Validation accuracy: 0.574800\n",
      "Epoch  3, CIFAR-10 Batch 5:  Loss: 1.091303, Validation accuracy: 0.586400\n",
      "Epoch  4, CIFAR-10 Batch 1:  Loss: 1.057829, Validation accuracy: 0.600800\n",
      "Epoch  4, CIFAR-10 Batch 2:  Loss: 1.096933, Validation accuracy: 0.591200\n",
      "Epoch  4, CIFAR-10 Batch 3:  Loss: 1.002675, Validation accuracy: 0.607000\n",
      "Epoch  4, CIFAR-10 Batch 4:  Loss: 0.974416, Validation accuracy: 0.618400\n",
      "Epoch  4, CIFAR-10 Batch 5:  Loss: 0.936821, Validation accuracy: 0.626600\n",
      "Epoch  5, CIFAR-10 Batch 1:  Loss: 0.972935, Validation accuracy: 0.629800\n",
      "Epoch  5, CIFAR-10 Batch 2:  Loss: 0.992354, Validation accuracy: 0.624600\n",
      "Epoch  5, CIFAR-10 Batch 3:  Loss: 0.902032, Validation accuracy: 0.641400\n",
      "Epoch  5, CIFAR-10 Batch 4:  Loss: 0.882366, Validation accuracy: 0.647800\n",
      "Epoch  5, CIFAR-10 Batch 5:  Loss: 0.897447, Validation accuracy: 0.631200\n",
      "Epoch  6, CIFAR-10 Batch 1:  Loss: 0.940816, Validation accuracy: 0.628400\n",
      "Epoch  6, CIFAR-10 Batch 2:  Loss: 0.920446, Validation accuracy: 0.638600\n",
      "Epoch  6, CIFAR-10 Batch 3:  Loss: 0.808579, Validation accuracy: 0.660800\n",
      "Epoch  6, CIFAR-10 Batch 4:  Loss: 0.801183, Validation accuracy: 0.662400\n",
      "Epoch  6, CIFAR-10 Batch 5:  Loss: 0.758159, Validation accuracy: 0.663800\n",
      "Epoch  7, CIFAR-10 Batch 1:  Loss: 0.820432, Validation accuracy: 0.664000\n",
      "Epoch  7, CIFAR-10 Batch 2:  Loss: 0.884089, Validation accuracy: 0.638600\n",
      "Epoch  7, CIFAR-10 Batch 3:  Loss: 0.826944, Validation accuracy: 0.645000\n",
      "Epoch  7, CIFAR-10 Batch 4:  Loss: 0.746971, Validation accuracy: 0.670400\n",
      "Epoch  7, CIFAR-10 Batch 5:  Loss: 0.724191, Validation accuracy: 0.664600\n",
      "Epoch  8, CIFAR-10 Batch 1:  Loss: 0.761268, Validation accuracy: 0.677000\n",
      "Epoch  8, CIFAR-10 Batch 2:  Loss: 0.763646, Validation accuracy: 0.685000\n",
      "Epoch  8, CIFAR-10 Batch 3:  Loss: 0.772668, Validation accuracy: 0.663600\n",
      "Epoch  8, CIFAR-10 Batch 4:  Loss: 0.694388, Validation accuracy: 0.678200\n",
      "Epoch  8, CIFAR-10 Batch 5:  Loss: 0.651919, Validation accuracy: 0.686200\n",
      "Epoch  9, CIFAR-10 Batch 1:  Loss: 0.695027, Validation accuracy: 0.685800\n",
      "Epoch  9, CIFAR-10 Batch 2:  Loss: 0.720671, Validation accuracy: 0.696400\n",
      "Epoch  9, CIFAR-10 Batch 3:  Loss: 0.626421, Validation accuracy: 0.701000\n",
      "Epoch  9, CIFAR-10 Batch 4:  Loss: 0.616619, Validation accuracy: 0.689600\n",
      "Epoch  9, CIFAR-10 Batch 5:  Loss: 0.593587, Validation accuracy: 0.694000\n",
      "Epoch 10, CIFAR-10 Batch 1:  Loss: 0.621457, Validation accuracy: 0.705600\n",
      "Epoch 10, CIFAR-10 Batch 2:  Loss: 0.671642, Validation accuracy: 0.693000\n",
      "Epoch 10, CIFAR-10 Batch 3:  Loss: 0.614099, Validation accuracy: 0.692600\n",
      "Epoch 10, CIFAR-10 Batch 4:  Loss: 0.577824, Validation accuracy: 0.691600\n",
      "Epoch 10, CIFAR-10 Batch 5:  Loss: 0.550676, Validation accuracy: 0.698200\n",
      "Epoch 11, CIFAR-10 Batch 1:  Loss: 0.590336, Validation accuracy: 0.700400\n",
      "Epoch 11, CIFAR-10 Batch 2:  Loss: 0.619029, Validation accuracy: 0.704600\n",
      "Epoch 11, CIFAR-10 Batch 3:  Loss: 0.577329, Validation accuracy: 0.698000\n",
      "Epoch 11, CIFAR-10 Batch 4:  Loss: 0.483457, Validation accuracy: 0.711200\n",
      "Epoch 11, CIFAR-10 Batch 5:  Loss: 0.472828, Validation accuracy: 0.704000\n",
      "Epoch 12, CIFAR-10 Batch 1:  Loss: 0.543355, Validation accuracy: 0.704600\n",
      "Epoch 12, CIFAR-10 Batch 2:  Loss: 0.532143, Validation accuracy: 0.717400\n",
      "Epoch 12, CIFAR-10 Batch 3:  Loss: 0.565074, Validation accuracy: 0.699200\n",
      "Epoch 12, CIFAR-10 Batch 4:  Loss: 0.462669, Validation accuracy: 0.712000\n",
      "Epoch 12, CIFAR-10 Batch 5:  Loss: 0.436543, Validation accuracy: 0.713600\n",
      "Epoch 13, CIFAR-10 Batch 1:  Loss: 0.447929, Validation accuracy: 0.725800\n",
      "Epoch 13, CIFAR-10 Batch 2:  Loss: 0.512098, Validation accuracy: 0.705400\n",
      "Epoch 13, CIFAR-10 Batch 3:  Loss: 0.487613, Validation accuracy: 0.698400\n",
      "Epoch 13, CIFAR-10 Batch 4:  Loss: 0.423457, Validation accuracy: 0.715400\n",
      "Epoch 13, CIFAR-10 Batch 5:  Loss: 0.381397, Validation accuracy: 0.718400\n",
      "Epoch 14, CIFAR-10 Batch 1:  Loss: 0.422082, Validation accuracy: 0.725600\n",
      "Epoch 14, CIFAR-10 Batch 2:  Loss: 0.480848, Validation accuracy: 0.704600\n",
      "Epoch 14, CIFAR-10 Batch 3:  Loss: 0.400109, Validation accuracy: 0.720800\n",
      "Epoch 14, CIFAR-10 Batch 4:  Loss: 0.377898, Validation accuracy: 0.720800\n",
      "Epoch 14, CIFAR-10 Batch 5:  Loss: 0.354598, Validation accuracy: 0.722400\n",
      "Epoch 15, CIFAR-10 Batch 1:  Loss: 0.415131, Validation accuracy: 0.706000\n",
      "Epoch 15, CIFAR-10 Batch 2:  Loss: 0.434342, Validation accuracy: 0.718800\n",
      "Epoch 15, CIFAR-10 Batch 3:  Loss: 0.369583, Validation accuracy: 0.727600\n",
      "Epoch 15, CIFAR-10 Batch 4:  Loss: 0.316282, Validation accuracy: 0.726200\n",
      "Epoch 15, CIFAR-10 Batch 5:  Loss: 0.311879, Validation accuracy: 0.726600\n",
      "Epoch 16, CIFAR-10 Batch 1:  Loss: 0.362042, Validation accuracy: 0.720200\n",
      "Epoch 16, CIFAR-10 Batch 2:  Loss: 0.389435, Validation accuracy: 0.714000\n",
      "Epoch 16, CIFAR-10 Batch 3:  Loss: 0.313132, Validation accuracy: 0.737000\n",
      "Epoch 16, CIFAR-10 Batch 4:  Loss: 0.292844, Validation accuracy: 0.727200\n",
      "Epoch 16, CIFAR-10 Batch 5:  Loss: 0.280238, Validation accuracy: 0.717200\n",
      "Epoch 17, CIFAR-10 Batch 1:  Loss: 0.320261, Validation accuracy: 0.729000\n",
      "Epoch 17, CIFAR-10 Batch 2:  Loss: 0.308036, Validation accuracy: 0.726000\n",
      "Epoch 17, CIFAR-10 Batch 3:  Loss: 0.322281, Validation accuracy: 0.722600\n",
      "Epoch 17, CIFAR-10 Batch 4:  Loss: 0.302696, Validation accuracy: 0.712000\n",
      "Epoch 17, CIFAR-10 Batch 5:  Loss: 0.283023, Validation accuracy: 0.706200\n",
      "Epoch 18, CIFAR-10 Batch 1:  Loss: 0.285936, Validation accuracy: 0.732800\n",
      "Epoch 18, CIFAR-10 Batch 2:  Loss: 0.285266, Validation accuracy: 0.731200\n",
      "Epoch 18, CIFAR-10 Batch 3:  Loss: 0.274485, Validation accuracy: 0.722800\n",
      "Epoch 18, CIFAR-10 Batch 4:  Loss: 0.239015, Validation accuracy: 0.725200\n",
      "Epoch 18, CIFAR-10 Batch 5:  Loss: 0.222786, Validation accuracy: 0.729600\n",
      "Epoch 19, CIFAR-10 Batch 1:  Loss: 0.313610, Validation accuracy: 0.708000\n",
      "Epoch 19, CIFAR-10 Batch 2:  Loss: 0.305845, Validation accuracy: 0.721600\n",
      "Epoch 19, CIFAR-10 Batch 3:  Loss: 0.268154, Validation accuracy: 0.715600\n",
      "Epoch 19, CIFAR-10 Batch 4:  Loss: 0.230773, Validation accuracy: 0.717600\n",
      "Epoch 19, CIFAR-10 Batch 5:  Loss: 0.184358, Validation accuracy: 0.721000\n",
      "Epoch 20, CIFAR-10 Batch 1:  Loss: 0.217427, Validation accuracy: 0.739200\n",
      "Epoch 20, CIFAR-10 Batch 2:  Loss: 0.242016, Validation accuracy: 0.724000\n",
      "Epoch 20, CIFAR-10 Batch 3:  Loss: 0.204865, Validation accuracy: 0.734600\n",
      "Epoch 20, CIFAR-10 Batch 4:  Loss: 0.206043, Validation accuracy: 0.716800\n",
      "Epoch 20, CIFAR-10 Batch 5:  Loss: 0.164698, Validation accuracy: 0.729600\n",
      "Epoch 21, CIFAR-10 Batch 1:  Loss: 0.225954, Validation accuracy: 0.722200\n",
      "Epoch 21, CIFAR-10 Batch 2:  Loss: 0.218202, Validation accuracy: 0.739200\n",
      "Epoch 21, CIFAR-10 Batch 3:  Loss: 0.166570, Validation accuracy: 0.739200\n",
      "Epoch 21, CIFAR-10 Batch 4:  Loss: 0.171005, Validation accuracy: 0.727000\n",
      "Epoch 21, CIFAR-10 Batch 5:  Loss: 0.135913, Validation accuracy: 0.737400\n",
      "Epoch 22, CIFAR-10 Batch 1:  Loss: 0.160315, Validation accuracy: 0.738000\n",
      "Epoch 22, CIFAR-10 Batch 2:  Loss: 0.131191, Validation accuracy: 0.743200\n",
      "Epoch 22, CIFAR-10 Batch 3:  Loss: 0.134420, Validation accuracy: 0.739400\n",
      "Epoch 22, CIFAR-10 Batch 4:  Loss: 0.132390, Validation accuracy: 0.725400\n"
     ]
    },
    {
     "name": "stdout",
     "output_type": "stream",
     "text": [
      "Epoch 22, CIFAR-10 Batch 5:  Loss: 0.132624, Validation accuracy: 0.718200\n",
      "Epoch 23, CIFAR-10 Batch 1:  Loss: 0.189407, Validation accuracy: 0.724800\n",
      "Epoch 23, CIFAR-10 Batch 2:  Loss: 0.148962, Validation accuracy: 0.734400\n",
      "Epoch 23, CIFAR-10 Batch 3:  Loss: 0.129936, Validation accuracy: 0.734800\n",
      "Epoch 23, CIFAR-10 Batch 4:  Loss: 0.138930, Validation accuracy: 0.717400\n",
      "Epoch 23, CIFAR-10 Batch 5:  Loss: 0.154203, Validation accuracy: 0.704600\n",
      "Epoch 24, CIFAR-10 Batch 1:  Loss: 0.147386, Validation accuracy: 0.724400\n",
      "Epoch 24, CIFAR-10 Batch 2:  Loss: 0.119064, Validation accuracy: 0.739200\n",
      "Epoch 24, CIFAR-10 Batch 3:  Loss: 0.109103, Validation accuracy: 0.735200\n",
      "Epoch 24, CIFAR-10 Batch 4:  Loss: 0.101327, Validation accuracy: 0.729200\n",
      "Epoch 24, CIFAR-10 Batch 5:  Loss: 0.085852, Validation accuracy: 0.726600\n",
      "Epoch 25, CIFAR-10 Batch 1:  Loss: 0.107863, Validation accuracy: 0.739400\n",
      "Epoch 25, CIFAR-10 Batch 2:  Loss: 0.105049, Validation accuracy: 0.724200\n",
      "Epoch 25, CIFAR-10 Batch 3:  Loss: 0.094946, Validation accuracy: 0.731800\n",
      "Epoch 25, CIFAR-10 Batch 4:  Loss: 0.089973, Validation accuracy: 0.712600\n",
      "Epoch 25, CIFAR-10 Batch 5:  Loss: 0.079629, Validation accuracy: 0.735800\n"
     ]
    }
   ],
   "source": [
    "\"\"\"\n",
    "DON'T MODIFY ANYTHING IN THIS CELL\n",
    "\"\"\"\n",
    "save_model_path = './image_classification'\n",
    "\n",
    "print('Training...')\n",
    "with tf.Session() as sess:\n",
    "    # Initializing the variables\n",
    "    sess.run(tf.global_variables_initializer())\n",
    "    \n",
    "    # Training cycle\n",
    "    for epoch in range(epochs):\n",
    "        # Loop over all batches\n",
    "        n_batches = 5\n",
    "        for batch_i in range(1, n_batches + 1):\n",
    "            for batch_features, batch_labels in helper.load_preprocess_training_batch(batch_i, batch_size):\n",
    "                train_neural_network(sess, optimizer, keep_probability, batch_features, batch_labels)\n",
    "            print('Epoch {:>2}, CIFAR-10 Batch {}:  '.format(epoch + 1, batch_i), end='')\n",
    "            print_stats(sess, batch_features, batch_labels, cost, accuracy)\n",
    "            \n",
    "    # Save Model\n",
    "    saver = tf.train.Saver()\n",
    "    save_path = saver.save(sess, save_model_path)"
   ]
  },
  {
   "cell_type": "markdown",
   "metadata": {},
   "source": [
    "# Checkpoint\n",
    "The model has been saved to disk.\n",
    "## Test Model\n",
    "Test your model against the test dataset.  This will be your final accuracy. You should have an accuracy greater than 50%. If you don't, keep tweaking the model architecture and parameters."
   ]
  },
  {
   "cell_type": "code",
   "execution_count": 189,
   "metadata": {},
   "outputs": [
    {
     "name": "stdout",
     "output_type": "stream",
     "text": [
      "Testing Accuracy: 0.7317841172218322\n",
      "\n"
     ]
    },
    {
     "data": {
      "image/png": "[encoded data removed]",
      "text/plain": [
       "<matplotlib.figure.Figure at 0x10f13d400>"
      ]
     },
     "metadata": {
      "image/png": {
       "height": 319,
       "width": 355
      }
     },
     "output_type": "display_data"
    }
   ],
   "source": [
    "\"\"\"\n",
    "DON'T MODIFY ANYTHING IN THIS CELL\n",
    "\"\"\"\n",
    "%matplotlib inline\n",
    "%config InlineBackend.figure_format = 'retina'\n",
    "\n",
    "import tensorflow as tf\n",
    "import pickle\n",
    "import helper\n",
    "import random\n",
    "\n",
    "# Set batch size if not already set\n",
    "try:\n",
    "    if batch_size:\n",
    "        pass\n",
    "except NameError:\n",
    "    batch_size = 64\n",
    "\n",
    "save_model_path = './image_classification'\n",
    "n_samples = 4\n",
    "top_n_predictions = 3\n",
    "\n",
    "def test_model():\n",
    "    \"\"\"\n",
    "    Test the saved model against the test dataset\n",
    "    \"\"\"\n",
    "\n",
    "    test_features, test_labels = pickle.load(open('preprocess_training.p', mode='rb'))\n",
    "    loaded_graph = tf.Graph()\n",
    "\n",
    "    with tf.Session(graph=loaded_graph) as sess:\n",
    "        # Load model\n",
    "        loader = tf.train.import_meta_graph(save_model_path + '.meta')\n",
    "        loader.restore(sess, save_model_path)\n",
    "\n",
    "        # Get Tensors from loaded model\n",
    "        loaded_x = loaded_graph.get_tensor_by_name('x:0')\n",
    "        loaded_y = loaded_graph.get_tensor_by_name('y:0')\n",
    "        loaded_keep_prob = loaded_graph.get_tensor_by_name('keep_prob:0')\n",
    "        loaded_logits = loaded_graph.get_tensor_by_name('logits:0')\n",
    "        loaded_acc = loaded_graph.get_tensor_by_name('accuracy:0')\n",
    "        \n",
    "        # Get accuracy in batches for memory limitations\n",
    "        test_batch_acc_total = 0\n",
    "        test_batch_count = 0\n",
    "        \n",
    "        for train_feature_batch, train_label_batch in helper.batch_features_labels(test_features, test_labels, batch_size):\n",
    "            test_batch_acc_total += sess.run(\n",
    "                loaded_acc,\n",
    "                feed_dict={loaded_x: train_feature_batch, loaded_y: train_label_batch, loaded_keep_prob: 1.0})\n",
    "            test_batch_count += 1\n",
    "\n",
    "        print('Testing Accuracy: {}\\n'.format(test_batch_acc_total/test_batch_count))\n",
    "\n",
    "        # Print Random Samples\n",
    "        random_test_features, random_test_labels = tuple(zip(*random.sample(list(zip(test_features, test_labels)), n_samples)))\n",
    "        random_test_predictions = sess.run(\n",
    "            tf.nn.top_k(tf.nn.softmax(loaded_logits), top_n_predictions),\n",
    "            feed_dict={loaded_x: random_test_features, loaded_y: random_test_labels, loaded_keep_prob: 1.0})\n",
    "        helper.display_image_predictions(random_test_features, random_test_labels, random_test_predictions)\n",
    "\n",
    "\n",
    "test_model()"
   ]
  },
  {
   "cell_type": "markdown",
   "metadata": {},
   "source": [
    "## Why 50-80% Accuracy?\n",
    "You might be wondering why you can't get an accuracy any higher. First things first, 50% isn't bad for a simple CNN.  Pure guessing would get you 10% accuracy. That's because there are many more techniques that can be applied to your model and we recemmond that once you are done with this project, you explore!\n",
    "\n",
    "## Submitting This Project\n",
    "When submitting this project, make sure to run all the cells before saving the notebook.  Save the notebook file as \"image_classification.ipynb\" and save it as a HTML file under \"File\" -> \"Download as\".  Include the \"helper.py\" and \"problem_unittests.py\" files in your submission."
   ]
  }
 ],
 "metadata": {
  "kernelspec": {
   "display_name": "Python 3",
   "language": "python",
   "name": "python3"
  },
  "language_info": {
   "codemirror_mode": {
    "name": "ipython",
    "version": 3
   },
   "file_extension": ".py",
   "mimetype": "text/x-python",
   "name": "python",
   "nbconvert_exporter": "python",
   "pygments_lexer": "ipython3",
   "version": "3.6.0"
  }
 },
 "nbformat": 4,
 "nbformat_minor": 1
}
